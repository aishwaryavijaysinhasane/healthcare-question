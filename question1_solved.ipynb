{
 "cells": [
  {
   "cell_type": "markdown",
   "id": "edd631c7",
   "metadata": {},
   "source": [
    "## Implement a program to find the number of patients who are diagnosed with D1.2 and who visited Unit01 within 7 days of the diagnosis date. "
   ]
  },
  {
   "cell_type": "code",
   "execution_count": 1,
   "id": "f8a1fa0e",
   "metadata": {},
   "outputs": [],
   "source": [
    "import sqlite3\n",
    "import csv"
   ]
  },
  {
   "cell_type": "code",
   "execution_count": 2,
   "id": "bdba7ead",
   "metadata": {},
   "outputs": [
    {
     "data": {
      "text/plain": [
       "<sqlite3.Cursor at 0x22bd2ec72d0>"
      ]
     },
     "execution_count": 2,
     "metadata": {},
     "output_type": "execute_result"
    }
   ],
   "source": [
    "# Connect to the SQLite database\n",
    "connection = sqlite3.connect('healthcare.db')\n",
    "cursor = connection.cursor()\n",
    "\n",
    "# Create Patients table\n",
    "create_patient_table = '''\n",
    "    CREATE TABLE IF NOT EXISTS patient (\n",
    "        person_id INTEGER PRIMARY KEY,\n",
    "        date_of_birth DATE,\n",
    "        gender VARCHAR(50)\n",
    "        \n",
    "    )\n",
    "'''\n",
    "cursor.execute(create_patient_table)\n",
    "\n",
    "# Create Doctors table\n",
    "create_visit_table = '''\n",
    "    CREATE TABLE IF NOT EXISTS visit (\n",
    "        unit_name VARCHAR(50),\n",
    "        visit_id INTEGER PRIMARY KEY,\n",
    "        visit_date DATE,\n",
    "        test_name VARCHAR(50),\n",
    "        test_value VARCHAR(50),\n",
    "        person_id INTEGER,\n",
    "        FOREIGN KEY (person_id) REFERENCES patient(person_id)        \n",
    "    )\n",
    "'''\n",
    "cursor.execute(create_visit_table)\n",
    "\n",
    "# Create Appointments table\n",
    "create_diagnosis_table = '''\n",
    "    CREATE TABLE IF NOT EXISTS diagnosis (\n",
    "        person_id INTEGER,\n",
    "        diagnosis_date DATE,\n",
    "        diagnosis_id INTEGER PRIMARY KEY,\n",
    "        diagnosis VARCHAR(100),\n",
    "        FOREIGN KEY (person_id) REFERENCES patient(person_id)\n",
    "    )\n",
    "'''\n",
    "cursor.execute(create_diagnosis_table)\n"
   ]
  },
  {
   "cell_type": "code",
   "execution_count": 3,
   "id": "00a44045",
   "metadata": {},
   "outputs": [
    {
     "name": "stdout",
     "output_type": "stream",
     "text": [
      "['person_id', 'date_of_birth', 'gender']\n",
      "(10000, '1954-03-17', 'F')\n",
      "(10001, '1963-01-06', 'F')\n",
      "(10002, '1961-11-17', 'M')\n",
      "(10003, '1956-04-24', 'F')\n",
      "(10004, '1963-07-04', 'F')\n",
      "(10005, '1955-10-10', 'F')\n",
      "(10006, '1954-10-20', 'M')\n",
      "(10007, '1964-12-02', 'F')\n",
      "(10008, '1976-04-17', 'F')\n",
      "(10009, '2036-01-20', 'M')\n",
      "(10010, '1950-06-06', 'M')\n",
      "(10011, '1952-09-28', 'M')\n",
      "(10012, '1960-01-10', 'F')\n",
      "(10013, '1963-04-24', 'F')\n",
      "(10014, '1962-08-15', 'M')\n",
      "(10015, '1954-07-16', 'M')\n",
      "(10016, '1956-05-27', 'F')\n",
      "(10017, '1962-10-19', 'M')\n",
      "(10018, '1961-10-07', 'M')\n",
      "(10019, '1831-10-08', 'F')\n"
     ]
    }
   ],
   "source": [
    "with open('./data/patient.csv', 'r') as file:\n",
    "    contents = csv.reader(file)\n",
    "    next(contents)  # Skip the header row\n",
    "    insert_records = \"INSERT INTO patient (person_id, date_of_birth, gender) VALUES (?, ?, ?)\"\n",
    "    cursor.executemany(insert_records, contents)\n",
    "\n",
    "\n",
    "query = '''\n",
    "    SELECT * FROM patient limit 20\n",
    "'''\n",
    "cursor.execute(query)\n",
    "\n",
    "columns = [column[0] for column in cursor.description]\n",
    "\n",
    "print(columns)\n",
    "\n",
    "# Print fetched data\n",
    "results = cursor.fetchall()\n",
    "for row in results:\n",
    "    print(row)"
   ]
  },
  {
   "cell_type": "code",
   "execution_count": 4,
   "id": "0ed1a5f8",
   "metadata": {},
   "outputs": [
    {
     "name": "stdout",
     "output_type": "stream",
     "text": [
      "['unit_name', 'visit_id', 'visit_date', 'test_name', 'test_value', 'person_id']\n",
      "('Unit02', 53816, '2021-01-05', 'TestA', '64.10498289901038', 11476)\n",
      "('Unit01', 54189, '2016-07-18', 'TestC', '68.50659305771454', 11134)\n",
      "('Unit02', 54406, '2017-07-21', 'TestA', '50.43286273784755', 10154)\n",
      "('Unit02', 56053, '2019-09-10', 'TestA', '74.35853101901877', 10261)\n",
      "('Unit02', 56740, '2021-01-20', 'TestA', '39.95834112206191', 11282)\n",
      "('Unit02', 57441, '2021-01-18', 'TestA', '44.68801528317269', 11146)\n",
      "('Unit02', 57689, '2017-02-26', 'TestA', '24.25959684927868', 10241)\n",
      "('Unit01', 59134, '2017-06-27', 'TestC', '27.982603908064952', 11767)\n",
      "('Unit02', 59732, '2016-02-06', 'TestA', '37.86563166890349', 10573)\n",
      "('Unit01', 59944, '2016-02-09', 'TestB', '25.06405405440501', 11535)\n",
      "('Unit01', 61221, '2021-03-29', 'TestC', '97.89064360308261', 10179)\n",
      "('Unit02', 61760, '2017-05-04', 'TestA', '58.02658865900786', 10635)\n",
      "('Unit02', 61827, '2019-05-20', 'TestA', '29.25421051737226', 11804)\n",
      "('Unit01', 62350, '2017-06-28', 'TestB', '39.13828026931093', 11677)\n",
      "('Unit01', 63197, '2017-06-08', 'TestB', '60.40641014992192', 10685)\n",
      "('Unit01', 63835, '2017-03-30', 'TestB', '22.35723039982097', 10071)\n",
      "('Unit02', 66235, '2017-07-10', 'TestA', '84.67387063828215', 10380)\n",
      "('Unit02', 66565, '2021-01-22', 'TestA', '97.94667004166959', 10850)\n",
      "('Unit02', 67056, '2021-09-07', 'TestA', '13.934462715787518', 10428)\n",
      "('Unit02', 67179, '2017-04-28', 'TestA', '26.01524533315626', 11956)\n"
     ]
    }
   ],
   "source": [
    "with open('./data/visit.csv', 'r') as file:\n",
    "    contents = csv.reader(file)\n",
    "    next(contents)  # Skip the header row\n",
    "    \n",
    "    insert_records = \"INSERT INTO visit (unit_name, visit_id, visit_date, test_name, test_value, person_id) VALUES (?, ?, ?, ?, ?, ?)\"\n",
    "    cursor.executemany(insert_records, contents)\n",
    "\n",
    "\n",
    "query = '''\n",
    "    SELECT * FROM visit limit 20\n",
    "'''\n",
    "cursor.execute(query)\n",
    "\n",
    "columns = [column[0] for column in cursor.description]\n",
    "\n",
    "print(columns)\n",
    "\n",
    "# Print fetched data\n",
    "results = cursor.fetchall()\n",
    "for row in results:\n",
    "    print(row)"
   ]
  },
  {
   "cell_type": "code",
   "execution_count": 5,
   "id": "34cd3f56",
   "metadata": {},
   "outputs": [
    {
     "name": "stdout",
     "output_type": "stream",
     "text": [
      "['person_id', 'diagnosis_date', 'diagnosis_id', 'diagnosis']\n",
      "(10107, '2016-04-06', 54245, 'D1.2')\n",
      "(10492, '2017-05-18', 54500, 'D1.2')\n",
      "(11223, '2021-06-24', 58782, 'C1.1')\n",
      "(10009, '2017-05-24', 59462, 'D1.2')\n",
      "(10671, '2016-06-21', 62066, 'D1.2')\n",
      "(10188, '2017-03-05', 63645, 'D1.2')\n",
      "(10585, '2019-08-06', 65379, 'D1.2')\n",
      "(10669, '2017-07-01', 68076, 'D1.2')\n",
      "(10142, '2016-01-31', 68542, 'D1.2')\n",
      "(10948, '2016-06-13', 68942, 'D1.2')\n",
      "(10240, '2021-06-30', 73873, 'E1.3')\n",
      "(11807, '2017-02-12', 74319, 'D1.2')\n",
      "(11366, '2019-02-22', 79333, 'D1.2')\n",
      "(11888, '2017-01-16', 80443, 'D1.2')\n",
      "(10027, '2016-07-02', 80622, 'D1.2')\n",
      "(11367, '2021-06-11', 82849, 'E1.3')\n",
      "(10425, '2017-04-02', 86798, 'D1.2')\n",
      "(10204, '2019-06-05', 87149, 'D1.2')\n",
      "(11219, '2017-05-06', 94075, 'D1.2')\n",
      "(10091, '2017-03-09', 96490, 'D1.2')\n"
     ]
    }
   ],
   "source": [
    "with open('./data/diagnosis.csv', 'r') as file:\n",
    "    contents = csv.reader(file)\n",
    "    next(contents)  # Skip the header row\n",
    "    insert_records = \"INSERT INTO diagnosis (person_id, diagnosis_date, diagnosis_id, diagnosis) VALUES (?, ?, ?, ?)\"\n",
    "    cursor.executemany(insert_records, contents)\n",
    "\n",
    "query = '''\n",
    "    SELECT * FROM diagnosis limit 20\n",
    "'''\n",
    "cursor.execute(query)\n",
    "\n",
    "columns = [column[0] for column in cursor.description]\n",
    "\n",
    "print(columns)\n",
    "\n",
    "# Print fetched data\n",
    "results = cursor.fetchall()\n",
    "for row in results:\n",
    "    print(row)"
   ]
  },
  {
   "cell_type": "markdown",
   "id": "eb9c8529",
   "metadata": {},
   "source": [
    "### Units and the respective count of visits"
   ]
  },
  {
   "cell_type": "code",
   "execution_count": 26,
   "id": "125fb57d",
   "metadata": {},
   "outputs": [
    {
     "name": "stdout",
     "output_type": "stream",
     "text": [
      "['unit_name', 'count']\n",
      "('Unit01', 3315)\n",
      "('Unit02', 7564)\n",
      "('Unit03', 467)\n"
     ]
    }
   ],
   "source": [
    "query = '''\n",
    "     SELECT v.unit_name, Count(v.visit_id) as count from visit v group by v.unit_name\n",
    "'''\n",
    "cursor.execute(query)\n",
    "\n",
    "columns = [column[0] for column in cursor.description]\n",
    "print(columns)\n",
    "\n",
    "# Print selected data\n",
    "results = cursor.fetchall()\n",
    "for row in results:\n",
    "    print(row)"
   ]
  },
  {
   "cell_type": "markdown",
   "id": "6874e644",
   "metadata": {},
   "source": [
    "### Diagnosis and the count of patients had that diagnosis"
   ]
  },
  {
   "cell_type": "code",
   "execution_count": 22,
   "id": "c3ed2cda",
   "metadata": {},
   "outputs": [
    {
     "name": "stdout",
     "output_type": "stream",
     "text": [
      "['diagnosis', 'count']\n",
      "('C1.1', 503)\n",
      "('D1.2', 2782)\n",
      "('E1.3', 497)\n"
     ]
    }
   ],
   "source": [
    "query = '''\n",
    "     SELECT d.diagnosis, Count(d.person_id) as count from diagnosis d group by d.diagnosis\n",
    "'''\n",
    "cursor.execute(query)\n",
    "\n",
    "columns = [column[0] for column in cursor.description]\n",
    "\n",
    "print(columns)\n",
    "\n",
    "# Print selected data\n",
    "results = cursor.fetchall()\n",
    "for row in results:\n",
    "    print(row)"
   ]
  },
  {
   "cell_type": "markdown",
   "id": "cb418a1f",
   "metadata": {},
   "source": [
    "### Count of patients who visited 'Unit01' and had diagnosis 'D1.2'"
   ]
  },
  {
   "cell_type": "code",
   "execution_count": 23,
   "id": "24159354",
   "metadata": {},
   "outputs": [
    {
     "name": "stdout",
     "output_type": "stream",
     "text": [
      "['patient_count']\n",
      "(2315,)\n"
     ]
    }
   ],
   "source": [
    "query = '''\n",
    "    select count(person_id) as patient_count from visit v where v.unit_name like 'Unit01' and v.person_id in(select distinct d.person_id from diagnosis d where d.diagnosis like 'D1.2')\n",
    "'''\n",
    "cursor.execute(query)\n",
    "\n",
    "columns = [column[0] for column in cursor.description]\n",
    "\n",
    "print(columns)\n",
    "\n",
    "# Print selected data\n",
    "results = cursor.fetchall()\n",
    "for row in results:\n",
    "    print(row)"
   ]
  },
  {
   "cell_type": "markdown",
   "id": "6c3b4d81",
   "metadata": {},
   "source": [
    "### The number of patients who are diagnosed with D1.2 and who visited Unit01 within 7 days of the diagnosis date. "
   ]
  },
  {
   "cell_type": "code",
   "execution_count": 25,
   "id": "a67503bb",
   "metadata": {},
   "outputs": [
    {
     "name": "stdout",
     "output_type": "stream",
     "text": [
      "['patients']\n",
      "(800,)\n"
     ]
    }
   ],
   "source": [
    "query = '''\n",
    "SELECT COUNT(DISTINCT d.person_id) AS patients\n",
    "FROM diagnosis d\n",
    "JOIN visit v ON d.person_id = v.person_id\n",
    "WHERE d.diagnosis = 'D1.2'\n",
    "  AND v.unit_name = 'Unit01'\n",
    "  AND DATE(v.visit_date) BETWEEN DATE(d.diagnosis_date) AND DATE(d.diagnosis_date, '+7 days');'''\n",
    "cursor.execute(query)\n",
    "\n",
    "columns = [column[0] for column in cursor.description]\n",
    "print(columns)\n",
    "\n",
    "# Print selected data\n",
    "results = cursor.fetchall()\n",
    "for row in results:\n",
    "    print(row)"
   ]
  },
  {
   "cell_type": "code",
   "execution_count": null,
   "id": "88f5129e",
   "metadata": {},
   "outputs": [],
   "source": []
  },
  {
   "cell_type": "code",
   "execution_count": null,
   "id": "96a69de1",
   "metadata": {},
   "outputs": [],
   "source": []
  },
  {
   "cell_type": "code",
   "execution_count": null,
   "id": "e3defa08",
   "metadata": {},
   "outputs": [],
   "source": []
  }
 ],
 "metadata": {
  "kernelspec": {
   "display_name": "Python 3 (ipykernel)",
   "language": "python",
   "name": "python3"
  },
  "language_info": {
   "codemirror_mode": {
    "name": "ipython",
    "version": 3
   },
   "file_extension": ".py",
   "mimetype": "text/x-python",
   "name": "python",
   "nbconvert_exporter": "python",
   "pygments_lexer": "ipython3",
   "version": "3.9.13"
  }
 },
 "nbformat": 4,
 "nbformat_minor": 5
}
